{
 "cells": [
  {
   "cell_type": "markdown",
   "metadata": {},
   "source": [
    "## 1. Dining philosophers problem"
   ]
  },
  {
   "cell_type": "code",
   "execution_count": null,
   "metadata": {},
   "outputs": [],
   "source": [
    "import threading\n",
    "import time\n",
    "import random\n",
    "\n",
    "# Define the number of philosophers and forks\n",
    "num_philosophers = 5\n",
    "num_forks = num_philosophers\n",
    "\n",
    "# Define semaphores for the forks and the mutex\n",
    "forks = [threading.Semaphore(1) for i in range(num_forks)]\n",
    "mutex = threading.Semaphore(1)\n",
    "\n",
    "# Define the philosopher thread function\n",
    "def philosopher(index):\n",
    "    while True:\n",
    "        print(f\"Philosopher {index} is thinking...\")\n",
    "        time.sleep(random.randint(1, 5))\n",
    "        \n",
    "        mutex.acquire()\n",
    "        \n",
    "        left_fork_index = index\n",
    "        right_fork_index = (index + 1) % num_forks\n",
    "        \n",
    "        forks[left_fork_index].acquire()\n",
    "        forks[right_fork_index].acquire()\n",
    "        \n",
    "        mutex.release()\n",
    "        \n",
    "        print(f\"Philosopher {index} is eating...\")\n",
    "        time.sleep(random.randint(1, 5))\n",
    "        \n",
    "        forks[left_fork_index].release()\n",
    "        forks[right_fork_index].release()\n",
    "\n",
    "# Create a thread for each philosopher\n",
    "philosopher_threads = []\n",
    "for i in range(num_philosophers):\n",
    "    philosopher_threads.append(threading.Thread(target=philosopher, args=(i,)))\n",
    "    \n",
    "# Start the philosopher threads\n",
    "for thread in philosopher_threads:\n",
    "    thread.start()\n",
    "    \n",
    "# Wait for the philosopher threads to complete\n",
    "for thread in philosopher_threads:\n",
    "    thread.join()"
   ]
  },
  {
   "cell_type": "markdown",
   "metadata": {},
   "source": [
    "## 2. Readers/Writers problem"
   ]
  },
  {
   "cell_type": "code",
   "execution_count": null,
   "metadata": {},
   "outputs": [],
   "source": [
    "import time\n",
    "from threading import Thread, Lock, Semaphore\n",
    "\n",
    "\n",
    "class SharedResource:\n",
    "    MAX_READERS = 10  # put some higher value because semaphore require some max capacity\n",
    "\n",
    "    def __init__(self):\n",
    "        self.rsemaphore = Semaphore(SharedResource.MAX_READERS)\n",
    "        self.wlock = Lock()\n",
    "\n",
    "\n",
    "class Reader:\n",
    "    def __init__(self, name, resource):\n",
    "        self.name = name\n",
    "        self.resource = resource\n",
    "\n",
    "    def read(self):\n",
    "        while self.resource.wlock.locked():\n",
    "            continue\n",
    "        self.resource.rsemaphore.acquire()\n",
    "        print(f'Reader {self.name} reading data')\n",
    "        time.sleep(1)\n",
    "        print(f'Reader {self.name} reading done')\n",
    "        self.resource.rsemaphore.release()\n",
    "\n",
    "class Writer:\n",
    "    def __init__(self, name, resource):\n",
    "        self.name = name\n",
    "        self.resource = resource\n",
    "\n",
    "    def write(self):\n",
    "        while self.resource.rsemaphore._value != SharedResource.MAX_READERS:  # all semaphores are released means no one is reading\n",
    "            continue\n",
    "        self.resource.wlock.acquire()\n",
    "        print(f'Writer {self.name} writing data')\n",
    "        time.sleep(2)\n",
    "        print(f'Writer {self.name} writing done')\n",
    "        self.resource.wlock.release()\n",
    "\n",
    "\n",
    "if __name__ == '__main__':\n",
    "    sr = SharedResource()\n",
    "    reader1 = Reader(\"reader1\", sr)\n",
    "    reader2 = Reader(\"reader2\", sr)\n",
    "    reader3 = Reader(\"reader3\", sr)\n",
    "    writer1 = Writer(\"writer1\", sr)\n",
    "    writer2 = Writer(\"writer2\", sr)\n",
    "\n",
    "    Thread(target=reader1.read).start()\n",
    "    Thread(target=writer1.write).start()\n",
    "    time.sleep(2)\n",
    "    Thread(target=reader2.read).start()\n",
    "    Thread(target=writer2.write).start()\n",
    "    Thread(target=reader3.read).start()"
   ]
  },
  {
   "cell_type": "markdown",
   "metadata": {},
   "source": [
    "## 3. ABA problem"
   ]
  },
  {
   "cell_type": "code",
   "execution_count": null,
   "metadata": {},
   "outputs": [],
   "source": []
  }
 ],
 "metadata": {
  "kernelspec": {
   "display_name": "p12",
   "language": "python",
   "name": "python3"
  },
  "language_info": {
   "codemirror_mode": {
    "name": "ipython",
    "version": 3
   },
   "file_extension": ".py",
   "mimetype": "text/x-python",
   "name": "python",
   "nbconvert_exporter": "python",
   "pygments_lexer": "ipython3",
   "version": "3.12.3"
  }
 },
 "nbformat": 4,
 "nbformat_minor": 2
}
