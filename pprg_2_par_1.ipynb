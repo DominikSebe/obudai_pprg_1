{
 "cells": [
  {
   "cell_type": "markdown",
   "metadata": {},
   "source": [
    "## Running threads in python 3.12"
   ]
  },
  {
   "cell_type": "code",
   "execution_count": null,
   "metadata": {},
   "outputs": [],
   "source": [
    "import threading\n",
    "from test.support import interpreters\n",
    "\n",
    "def run_in_thread():\n",
    "    t = threading.Thread(target=interpreters.create)\n",
    "    print(t)\n",
    "    t.start()\n",
    "    print(t)\n",
    "    t.join()\n",
    "    print(t)\n",
    "\n",
    "run_in_thread()\n",
    "run_in_thread()"
   ]
  },
  {
   "cell_type": "markdown",
   "metadata": {},
   "source": [
    "As it seems, there is no concrete, straight implementation for python 3.12 interface\n",
    "to run multiple threads without explicitly spawning new interpreters."
   ]
  },
  {
   "cell_type": "markdown",
   "metadata": {},
   "source": [
    "## Problems solved with parallel programming/threads"
   ]
  },
  {
   "cell_type": "code",
   "execution_count": null,
   "metadata": {},
   "outputs": [],
   "source": [
    "import numpy as np\n",
    "prob_size = 10000000\n",
    "array = np.arange(0, prob_size)"
   ]
  },
  {
   "cell_type": "code",
   "execution_count": null,
   "metadata": {},
   "outputs": [],
   "source": [
    "def fun(element):\n",
    "    return np.power(element, 2.0)"
   ]
  },
  {
   "cell_type": "markdown",
   "metadata": {},
   "source": [
    "### 1. Example run on one single thread"
   ]
  },
  {
   "cell_type": "code",
   "execution_count": null,
   "metadata": {},
   "outputs": [],
   "source": [
    "from timeit import default_timer as timer\n",
    "\n",
    "start = timer()\n",
    "total = 0\n",
    "for i in range(prob_size):\n",
    "    fun(i)\n",
    "end = timer()\n",
    "print(end - start)"
   ]
  },
  {
   "cell_type": "markdown",
   "metadata": {},
   "source": [
    "### 2. Example run on multiple threads"
   ]
  },
  {
   "cell_type": "code",
   "execution_count": null,
   "metadata": {},
   "outputs": [],
   "source": [
    "def thread_fun(start, end):\n",
    "    for i in range(start, end):\n",
    "        fun(i)\n",
    "\n",
    "def run_in_threads_no_sub(total: int = 10):\n",
    "    list_thread = []\n",
    "    chunk = prob_size / total\n",
    "    for i in range(total):\n",
    "        print(i * chunk, (i + 1) * chunk)\n",
    "        t = threading.Thread(target=thread_fun, args=(int(i * chunk), int((i + 1) * chunk)))\n",
    "        list_thread.append(t)\n",
    "\n",
    "    start = timer()\n",
    "    for i in range(total):\n",
    "        list_thread[i].start()\n",
    "        list_thread.append(list_thread[i])\n",
    "\n",
    "    for t in list_thread:\n",
    "        t.join()\n",
    "\n",
    "    end = timer()\n",
    "    print(f\"Test no_subinterpreter has total execution time {end - start}\")"
   ]
  },
  {
   "cell_type": "code",
   "execution_count": null,
   "metadata": {},
   "outputs": [],
   "source": [
    "run_in_threads_no_sub(10)"
   ]
  },
  {
   "cell_type": "code",
   "execution_count": null,
   "metadata": {},
   "outputs": [],
   "source": []
  }
 ],
 "metadata": {
  "kernelspec": {
   "display_name": "p12",
   "language": "python",
   "name": "python3"
  },
  "language_info": {
   "codemirror_mode": {
    "name": "ipython",
    "version": 3
   },
   "file_extension": ".py",
   "mimetype": "text/x-python",
   "name": "python",
   "nbconvert_exporter": "python",
   "pygments_lexer": "ipython3",
   "version": "3.12.3"
  }
 },
 "nbformat": 4,
 "nbformat_minor": 2
}
