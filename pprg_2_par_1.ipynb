{
 "cells": [
  {
   "cell_type": "markdown",
   "metadata": {},
   "source": [
    "## Running threads without GIL in python 3.12"
   ]
  },
  {
   "cell_type": "code",
   "metadata": {},
   "source": [
    "import threading\n",
    "from test.support import interpreters\n",
    "\n",
    "def run_in_thread():\n",
    "    t = threading.Thread(target=interpreters.create)\n",
    "    print(t)\n",
    "    t.start()\n",
    "    print(t)\n",
    "    t.join()\n",
    "    print(t)\n",
    "\n",
    "run_in_thread()\n",
    "run_in_thread()"
   ],
   "outputs": [],
   "execution_count": null
  },
  {
   "cell_type": "markdown",
   "metadata": {},
   "source": [
    "As it seems, there is no concrete, straight implementation for python 3.12 interface\n",
    "to run multiple threads without explicitly spawning new interpreters."
   ]
  },
  {
   "cell_type": "markdown",
   "metadata": {},
   "source": [
    "## Problems solved with parallel programming/threads"
   ]
  },
  {
   "cell_type": "code",
   "metadata": {},
   "source": [
    "import numpy as np\n",
    "prob_size = 100000\n",
    "array = np.arange(0, prob_size)"
   ],
   "outputs": [],
   "execution_count": null
  },
  {
   "cell_type": "code",
   "metadata": {},
   "source": [
    "def fun(element):\n",
    "    return np.power(element, 2.0)"
   ],
   "outputs": [],
   "execution_count": null
  },
  {
   "cell_type": "markdown",
   "metadata": {},
   "source": [
    "### 1. Example run on one single thread"
   ]
  },
  {
   "cell_type": "code",
   "metadata": {},
   "source": [
    "from timeit import default_timer as timer\n",
    "\n",
    "start = timer()\n",
    "total = 0\n",
    "for i in range(prob_size):\n",
    "    fun(i)\n",
    "end = timer()\n",
    "print(\"One thread execution time\", end - start)"
   ],
   "outputs": [],
   "execution_count": null
  },
  {
   "cell_type": "markdown",
   "metadata": {},
   "source": [
    "### 2. Example run on multiple threads"
   ]
  },
  {
   "cell_type": "code",
   "metadata": {},
   "source": [
    "def thread_fun(start, end):\n",
    "    for i in range(start, end):\n",
    "        fun(i)\n",
    "\n",
    "def run_in_threads_no_sub(total: int = 10):\n",
    "    list_thread = []\n",
    "    chunk = prob_size / total\n",
    "    for i in range(total):\n",
    "        t = threading.Thread(target=thread_fun, args=(int(i * chunk), int((i + 1) * chunk)))\n",
    "        list_thread.append(t)\n",
    "\n",
    "    start = timer()\n",
    "    for i in range(total):\n",
    "        list_thread[i].start()\n",
    "        list_thread.append(list_thread[i])\n",
    "\n",
    "    for t in list_thread:\n",
    "        t.join()\n",
    "\n",
    "    end = timer()\n",
    "    print(f\"Parallel threads execution time {end - start}\")"
   ],
   "outputs": [],
   "execution_count": null
  },
  {
   "cell_type": "code",
   "metadata": {},
   "source": [
    "run_in_threads_no_sub(10)"
   ],
   "outputs": [],
   "execution_count": null
  },
  {
   "cell_type": "markdown",
   "metadata": {},
   "source": [
    "## Parallel programming primitives with multiple threads"
   ]
  },
  {
   "cell_type": "markdown",
   "metadata": {},
   "source": [
    "### 1. Semaphore"
   ]
  },
  {
   "cell_type": "code",
<<<<<<< HEAD
   "execution_count": null,
   "metadata": {},
   "outputs": [],
=======
   "metadata": {},
>>>>>>> refs/remotes/origin/main
   "source": [
    "from threading import *\n",
    "import time\n",
    "\n",
    "obj = Semaphore(5)\n",
    "\n",
    "def greeting(msg):\n",
    "    obj.acquire()\n",
    "    for i in range(5):\n",
    "        print(\"Hello World! from :\", end= \"\")\n",
    "        time.sleep(1)\n",
    "        print(msg)\n",
    "\n",
    "        obj.release()\n",
    "\n",
    "t1 = Thread(target = greeting, args = ('Thread 1',))\n",
    "t2 = Thread(target = greeting, args = ('Thread 2',))\n",
    "t3 = Thread(target = greeting, args = ('Thread 3',))\n",
    "t4 = Thread(target = greeting, args = ('Thread 4',))\n",
    "t5 = Thread(target = greeting, args = ('Thread 5',))\n",
    "\n",
    "t1.start()\n",
    "t2.start()\n",
    "t3.start()\n",
    "t4.start()\n",
    "t5.start()"
   ],
   "outputs": [],
   "execution_count": null
  },
  {
   "cell_type": "code",
<<<<<<< HEAD
   "execution_count": null,
=======
>>>>>>> refs/remotes/origin/main
   "metadata": {},
   "source": [
    "msg = \"blabla\""
   ],
   "outputs": [],
   "execution_count": null
  },
  {
   "cell_type": "markdown",
   "metadata": {},
   "source": [
    "### 2. Monitor"
   ]
  },
  {
   "cell_type": "code",
<<<<<<< HEAD
   "execution_count": 19,
   "metadata": {},
   "outputs": [
    {
     "name": "stderr",
     "output_type": "stream",
     "text": [
      "2024-08-08 18:11:59,680 (c1) Starting consumer thread\n"
     ]
    },
    {
     "name": "stderr",
     "output_type": "stream",
     "text": [
      "C:\\Users\\szucs\\AppData\\Local\\Temp\\ipykernel_11064\\3738647976.py:13: DeprecationWarning: currentThread() is deprecated, use current_thread() instead\n",
      "  t = threading.currentThread()\n",
      "2024-08-08 18:12:01,690 (c2) Starting consumer thread\n",
      "2024-08-08 18:12:03,695 (p ) Starting producer thread\n",
      "2024-08-08 18:12:03,701 (p ) Making resource available\n",
      "C:\\Users\\szucs\\AppData\\Local\\Temp\\ipykernel_11064\\3738647976.py:23: DeprecationWarning: notifyAll() is deprecated, use notify_all() instead\n",
      "  cond.notifyAll()\n",
      "2024-08-08 18:12:03,704 (c1) Resource is available to consumer\n"
     ]
    },
    {
     "name": "stderr",
     "output_type": "stream",
     "text": [
      "2024-08-08 18:12:03,707 (c2) Resource is available to consumer\n"
     ]
    }
   ],
=======
   "metadata": {},
>>>>>>> refs/remotes/origin/main
   "source": [
    "# Doug Hellmann's example from https://pymotw.com/2/threading/#synchronizing-threads\n",
    "import logging\n",
    "import threading\n",
    "import time\n",
    "\n",
    "logging.basicConfig(level=logging.DEBUG,\n",
    "                    format='%(asctime)s (%(threadName)-2s) %(message)s',\n",
    "                    )\n",
    "\n",
    "def consumer(cond):\n",
    "    \"\"\"wait for the condition and use the resource\"\"\"\n",
    "    logging.debug('Starting consumer thread')\n",
    "    t = threading.currentThread()\n",
    "    with cond:\n",
    "        cond.wait()\n",
    "        logging.debug('Resource is available to consumer')\n",
    "\n",
    "def producer(cond):\n",
    "    \"\"\"set up the resource to be used by the consumer\"\"\"\n",
    "    logging.debug('Starting producer thread')\n",
    "    with cond:\n",
    "        logging.debug('Making resource available')\n",
    "        cond.notifyAll()\n",
    "\n",
    "condition = threading.Condition()\n",
    "c1 = threading.Thread(name='c1', target=consumer, args=(condition,))\n",
    "c2 = threading.Thread(name='c2', target=consumer, args=(condition,))\n",
    "p = threading.Thread(name='p', target=producer, args=(condition,))\n",
    "\n",
    "c1.start()\n",
    "time.sleep(2)\n",
    "c2.start()\n",
    "time.sleep(2)\n",
    "p.start()"
   ],
   "outputs": [],
   "execution_count": null
  },
  {
   "cell_type": "markdown",
   "metadata": {},
   "source": [
    "### 3. Locks"
   ]
  },
  {
   "cell_type": "code",
   "metadata": {},
   "source": [
    "import threading\n",
    "\n",
    "class LockObject(object):\n",
    "    def __init__(self, obj, lock=None):\n",
    "        self.lock = lock or threading.RLock()\n",
    "        self._obj = obj\n",
    "\n",
    "    def __enter__(self):\n",
    "        self.lock.acquire()\n",
    "        return self._obj\n",
    "\n",
    "    def __exit__(self, exc_type, exc_value, traceback):\n",
    "        self.lock.release()\n",
    "\n",
    "    def set(self, obj):\n",
    "        with self:\n",
    "            self._obj = obj"
   ],
   "outputs": [],
   "execution_count": null
  },
  {
   "cell_type": "code",
   "metadata": {},
   "source": [
    "# TODO add threading example of trying to add multiple elements to a locked object!"
   ],
   "outputs": [],
   "execution_count": null
  },
  {
   "cell_type": "markdown",
   "metadata": {},
   "source": [
    "### 4. Barriers"
   ]
  },
  {
   "cell_type": "code",
   "metadata": {},
   "source": [
    "import threading \n",
    "  \n",
    "barrier = threading.Barrier(3) \n",
    "  \n",
    "class thread(threading.Thread): \n",
    "    def __init__(self, thread_ID): \n",
    "        threading.Thread.__init__(self) \n",
    "        self.thread_ID = thread_ID \n",
    "    def run(self): \n",
    "        print(str(self.thread_ID) + \"\\n\") \n",
    "        barrier.wait() \n",
    "          \n",
    "thread1 = thread(100) \n",
    "thread2 = thread(101) \n",
    "  \n",
    "thread1.start() \n",
    "thread2.start() \n",
    "barrier.wait() \n",
    "  \n",
    "print(\"Exit\\n\") "
   ],
   "outputs": [],
   "execution_count": null
  },
  {
   "cell_type": "code",
   "metadata": {},
   "source": [
    "# program to demonstrate \n",
    "# barriers in python \n",
    "  \n",
    "import threading \n",
    "  \n",
    "barrier = threading.Barrier(3) \n",
    "  \n",
    "class thread(threading.Thread): \n",
    "    def __init__(self, thread_ID): \n",
    "        threading.Thread.__init__(self) \n",
    "        self.thread_ID = thread_ID \n",
    "    def run(self): \n",
    "        print(str(self.thread_ID) + \"\\n\") \n",
    "        print(\"Parties = \" + str(barrier.parties) + \"\\n\") \n",
    "        print(\"n_waiting = \" + str(barrier.n_waiting) + \"\\n\") \n",
    "        barrier.wait() \n",
    "          \n",
    "thread1 = thread(100) \n",
    "thread2 = thread(101) \n",
    "  \n",
    "thread1.start() \n",
    "thread2.start() \n",
    "  \n",
    "barrier.wait() \n",
    "  \n",
    "print(str(barrier.broken) + \"\\n\") \n",
    "barrier.reset() \n",
    "print(\"n_waiting after reset = \" + str(barrier.n_waiting)) \n",
    "barrier.abort() \n",
    "print(\"End\") "
   ],
   "outputs": [],
   "execution_count": null
  },
  {
   "cell_type": "markdown",
   "metadata": {},
   "source": [
    "### 5. Atomics"
   ]
  },
  {
   "cell_type": "markdown",
   "metadata": {},
   "source": [
    "There are no such built-in objects as atomics. The task would be to implement an atomic object for yourselves!"
   ]
  },
  {
   "cell_type": "code",
<<<<<<< HEAD
   "execution_count": null,
=======
>>>>>>> refs/remotes/origin/main
   "metadata": {},
   "source": [
    "# Sample implementation\n",
    "class AtomicInteger():\n",
    "    def __init__(self, value=0):\n",
    "        self._value = int(value)\n",
    "        self._lock = threading.Lock()\n",
    "        \n",
    "    def inc(self, d=1):\n",
    "        with self._lock:\n",
    "            self._value += int(d)\n",
    "            return self._value\n",
    "\n",
    "    def dec(self, d=1):\n",
    "        return self.inc(-d)    \n",
    "\n",
    "    @property\n",
    "    def value(self):\n",
    "        with self._lock:\n",
    "            return self._value\n",
    "\n",
    "    @value.setter\n",
    "    def value(self, v):\n",
    "        with self._lock:\n",
    "            self._value = int(v)\n",
    "            return self._value"
   ],
   "outputs": [],
   "execution_count": null
  },
  {
   "cell_type": "code",
   "metadata": {},
   "source": [
    "# TODO write code that tries to increment/do smt with an atomic object!"
   ],
   "outputs": [],
   "execution_count": null
  }
 ],
 "metadata": {
  "kernelspec": {
   "display_name": "p12",
   "language": "python",
   "name": "python3"
  },
  "language_info": {
   "codemirror_mode": {
    "name": "ipython",
    "version": 3
   },
   "file_extension": ".py",
   "mimetype": "text/x-python",
   "name": "python",
   "nbconvert_exporter": "python",
   "pygments_lexer": "ipython3",
   "version": "3.12.3"
  }
 },
 "nbformat": 4,
 "nbformat_minor": 2
}
