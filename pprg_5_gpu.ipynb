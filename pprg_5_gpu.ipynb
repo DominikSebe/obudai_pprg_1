{
 "cells": [
  {
   "metadata": {},
   "cell_type": "markdown",
   "source": "# Programming the GPUs to get speed-ups in implementation",
   "id": "60b251bae5e0fe3"
  },
  {
   "metadata": {},
   "cell_type": "markdown",
   "source": "## 1. [JAX](https://github.com/google/jax) ",
   "id": "603ad943c980b806"
  },
  {
   "metadata": {
    "ExecuteTime": {
     "end_time": "2024-08-15T14:35:53.321558Z",
     "start_time": "2024-08-15T14:35:53.318419Z"
    }
   },
   "cell_type": "code",
   "source": [
    "import jax.numpy as jnp\n",
    "from jax import jit"
   ],
   "id": "fc2f21bfcec6f73b",
   "outputs": [],
   "execution_count": 4
  },
  {
   "metadata": {
    "ExecuteTime": {
     "end_time": "2024-08-15T14:35:53.797176Z",
     "start_time": "2024-08-15T14:35:53.793922Z"
    }
   },
   "cell_type": "code",
   "source": "from timeit import default_timer as timer # for timing the application",
   "id": "ac6b54b187eb706c",
   "outputs": [],
   "execution_count": 5
  },
  {
   "metadata": {
    "ExecuteTime": {
     "end_time": "2024-08-15T14:35:56.646605Z",
     "start_time": "2024-08-15T14:35:56.621339Z"
    }
   },
   "cell_type": "code",
   "source": [
    "def slow_f(x):\n",
    "  # Element-wise ops see a large benefit from fusion\n",
    "  return x * x + x * 2.0"
   ],
   "id": "c8d6fb8582a4f90c",
   "outputs": [],
   "execution_count": 6
  },
  {
   "metadata": {
    "ExecuteTime": {
     "end_time": "2024-08-15T14:38:04.848104Z",
     "start_time": "2024-08-15T14:38:04.842231Z"
    }
   },
   "cell_type": "code",
   "source": [
    "# This is wrong, because JAX doesn't block until it is ready\n",
    "start = timer()\n",
    "x_no_block = jnp.ones((5000, 5000))\n",
    "end = timer()\n",
    "print(\"Time needed to run the sum with gpu: \", end - start)"
   ],
   "id": "bac77b84f3c6a62d",
   "outputs": [
    {
     "name": "stdout",
     "output_type": "stream",
     "text": [
      "Time needed to run the sum with gpu:  0.0011037000003852881\n"
     ]
    }
   ],
   "execution_count": 10
  },
  {
   "metadata": {
    "ExecuteTime": {
     "end_time": "2024-08-15T14:38:06.472357Z",
     "start_time": "2024-08-15T14:38:06.465555Z"
    }
   },
   "cell_type": "code",
   "source": [
    "# This is the correct solution\n",
    "start = timer()\n",
    "x_block = jnp.ones((5000, 5000)).block_until_ready()\n",
    "end = timer()\n",
    "print(\"Time needed to run the sum with gpu: \", end - start)"
   ],
   "id": "a6dd405c4756ba5d",
   "outputs": [
    {
     "name": "stdout",
     "output_type": "stream",
     "text": [
      "Time needed to run the sum with gpu:  0.0021476679999068438\n"
     ]
    }
   ],
   "execution_count": 11
  },
  {
   "metadata": {},
   "cell_type": "code",
   "outputs": [],
   "execution_count": null,
   "source": "",
   "id": "2e25dd1b949406ea"
  }
 ],
 "metadata": {
  "kernelspec": {
   "display_name": "Python 3",
   "language": "python",
   "name": "python3"
  },
  "language_info": {
   "codemirror_mode": {
    "name": "ipython",
    "version": 2
   },
   "file_extension": ".py",
   "mimetype": "text/x-python",
   "name": "python",
   "nbconvert_exporter": "python",
   "pygments_lexer": "ipython2",
   "version": "2.7.6"
  }
 },
 "nbformat": 4,
 "nbformat_minor": 5
}
