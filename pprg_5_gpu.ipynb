{
 "cells": [
  {
   "metadata": {},
   "cell_type": "markdown",
   "source": "# Programming the GPUs to get speed-ups in implementation",
   "id": "60b251bae5e0fe3"
  },
  {
   "metadata": {},
   "cell_type": "markdown",
   "source": "## 1. [JAX](https://github.com/google/jax) ",
   "id": "603ad943c980b806"
  },
  {
   "metadata": {},
   "cell_type": "code",
   "source": [
    "import jax.numpy as jnp\n",
    "from jax import jit"
   ],
   "id": "fc2f21bfcec6f73b",
   "outputs": [],
   "execution_count": null
  },
  {
   "metadata": {},
   "cell_type": "code",
   "source": "from timeit import default_timer as timer # for timing the application",
   "id": "ac6b54b187eb706c",
   "outputs": [],
   "execution_count": null
  },
  {
   "metadata": {},
   "cell_type": "code",
   "source": [
    "def slow_f(x):\n",
    "  # Element-wise ops see a large benefit from fusion\n",
    "  return x * x + x * 2.0"
   ],
   "id": "c8d6fb8582a4f90c",
   "outputs": [],
   "execution_count": null
  },
  {
   "metadata": {},
   "cell_type": "code",
   "source": [
    "# This is wrong, because JAX doesn't block until it is ready\n",
    "start = timer()\n",
    "x_no_block = jnp.ones((5000, 5000))\n",
    "end = timer()\n",
    "print(\"Time needed to run the sum with gpu: \", end - start)"
   ],
   "id": "bac77b84f3c6a62d",
   "outputs": [],
   "execution_count": null
  },
  {
   "metadata": {},
   "cell_type": "code",
   "source": [
    "# This is the correct solution\n",
    "start = timer()\n",
    "x_block = jnp.ones((5000, 5000)).block_until_ready()\n",
    "end = timer()\n",
    "print(\"Time needed to run the sum with gpu: \", end - start)"
   ],
   "id": "a6dd405c4756ba5d",
   "outputs": [],
   "execution_count": null
  },
  {
   "metadata": {},
   "cell_type": "markdown",
   "source": "## 2. [CuPy](https://cupy.dev/)",
   "id": "27a0a3323af5fb28"
  },
  {
   "metadata": {},
   "cell_type": "code",
   "source": [
    "import cupy as cp\n",
    "import numpy as np"
   ],
   "id": "7fda3f2385144ec4",
   "outputs": [],
   "execution_count": null
  },
  {
   "metadata": {},
   "cell_type": "code",
   "source": "problem_size = [100, 100, 100]",
   "id": "c68cd86535b2da34",
   "outputs": [],
   "execution_count": null
  },
  {
   "metadata": {},
   "cell_type": "code",
   "source": [
    "start = timer()\n",
    "rand_cpu = np.random.rand(*problem_size) # describe what * operator does to a list!\n",
    "end = timer()\n",
    "print(\"Time needed to run the sum with gpu: \", end - start)"
   ],
   "id": "7d6ec2b0c427ae73",
   "outputs": [],
   "execution_count": null
  },
  {
   "metadata": {},
   "cell_type": "code",
   "source": [
    "start = timer()\n",
    "rand_gpu = cp.random.rand(*problem_size)\n",
    "end = timer()\n",
    "print(\"Time needed to run the sum with gpu: \", end - start)"
   ],
   "id": "3ee52c34cc4fe5e2",
   "outputs": [],
   "execution_count": null
  },
  {
   "metadata": {},
   "cell_type": "markdown",
   "source": "Transferring data from cpu to the gpu",
   "id": "7c03f0a4891eaed7"
  },
  {
   "metadata": {},
   "cell_type": "code",
   "source": [
    "dat_cpu = np.random.rand(*problem_size)\n",
    "dat_gpu = cp.asarray(dat_cpu)"
   ],
   "id": "b7dcd04ce4bb449c",
   "outputs": [],
   "execution_count": null
  },
  {
   "metadata": {},
   "cell_type": "markdown",
   "source": "Transferring data from the gpu to the cpu",
   "id": "b6253205618636f2"
  },
  {
   "metadata": {},
   "cell_type": "code",
   "source": [
    "dat_gpu = cp.random.rand(*problem_size)\n",
    "dat_cpu = cp.asnumpy(dat_gpu)"
   ],
   "id": "55bb53cdffbbac42",
   "outputs": [],
   "execution_count": null
  },
  {
   "metadata": {},
   "cell_type": "markdown",
   "source": "Transferring data is quite similar as it is in pytorch!",
   "id": "9944bb3409b36682"
  }
 ],
 "metadata": {
  "kernelspec": {
   "display_name": "Python 3",
   "language": "python",
   "name": "python3"
  },
  "language_info": {
   "codemirror_mode": {
    "name": "ipython",
    "version": 2
   },
   "file_extension": ".py",
   "mimetype": "text/x-python",
   "name": "python",
   "nbconvert_exporter": "python",
   "pygments_lexer": "ipython2",
   "version": "2.7.6"
  }
 },
 "nbformat": 4,
 "nbformat_minor": 5
}
